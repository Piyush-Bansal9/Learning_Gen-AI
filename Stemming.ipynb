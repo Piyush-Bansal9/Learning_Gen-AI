{
 "cells": [
  {
   "cell_type": "markdown",
   "id": "f60ee75e-800f-4462-b928-06a317b89f3c",
   "metadata": {},
   "source": [
    "# PorterStemmer"
   ]
  },
  {
   "cell_type": "code",
   "execution_count": 23,
   "id": "8c6b6405-683a-4cb9-a28e-4e6ef49ddc96",
   "metadata": {},
   "outputs": [],
   "source": [
    "from nltk.stem import PorterStemmer"
   ]
  },
  {
   "cell_type": "code",
   "execution_count": 24,
   "id": "47ca5a8e-1616-4515-80a7-8963cee5703b",
   "metadata": {},
   "outputs": [],
   "source": [
    "words = [\"eat\", \"eating\", \"eats\", \"program\", \"programming\", \"finally\", \"finalize\"]"
   ]
  },
  {
   "cell_type": "code",
   "execution_count": 31,
   "id": "8d295bbe-ab79-4289-9de9-0ebada4e9480",
   "metadata": {},
   "outputs": [
    {
     "name": "stdout",
     "output_type": "stream",
     "text": [
      "eat\n",
      "eat\n",
      "eat\n",
      "program\n",
      "program\n",
      "final\n",
      "final\n"
     ]
    }
   ],
   "source": [
    "stemmer = PorterStemmer()\n",
    "for word in words:\n",
    "    res = stemmer.stem(word)\n",
    "    print(res)"
   ]
  },
  {
   "cell_type": "markdown",
   "id": "c0dc5eea-f6ac-474f-9fbf-8b3a30a805f2",
   "metadata": {},
   "source": [
    "### But problem arises in these cases...."
   ]
  },
  {
   "cell_type": "code",
   "execution_count": 33,
   "id": "3501ebb8-e33f-4ff6-be3e-d86842d54006",
   "metadata": {},
   "outputs": [
    {
     "data": {
      "text/plain": [
       "'histori'"
      ]
     },
     "execution_count": 33,
     "metadata": {},
     "output_type": "execute_result"
    }
   ],
   "source": [
    "stemmer.stem(\"history\")"
   ]
  },
  {
   "cell_type": "code",
   "execution_count": 34,
   "id": "67b34202-d4ce-4e17-a825-8180069d5e7c",
   "metadata": {},
   "outputs": [
    {
     "data": {
      "text/plain": [
       "'congratul'"
      ]
     },
     "execution_count": 34,
     "metadata": {},
     "output_type": "execute_result"
    }
   ],
   "source": [
    "stemmer.stem(\"congratulations\")"
   ]
  },
  {
   "cell_type": "markdown",
   "id": "d21ecb26-93c5-4a4a-88ff-c4a10aa83d45",
   "metadata": {},
   "source": [
    "# RegexpStemmer"
   ]
  },
  {
   "cell_type": "code",
   "execution_count": 40,
   "id": "8806ba32-6d2d-4130-8e51-fb6db63ab04c",
   "metadata": {},
   "outputs": [],
   "source": [
    "from nltk.stem import RegexpStemmer\n",
    "reg_stemmer = RegexpStemmer('ing|s$|es$', min = 4)"
   ]
  },
  {
   "cell_type": "code",
   "execution_count": 42,
   "id": "005d1bac-7dda-4af5-82e6-f28a7806941f",
   "metadata": {},
   "outputs": [
    {
     "data": {
      "text/plain": [
       "'eat'"
      ]
     },
     "execution_count": 42,
     "metadata": {},
     "output_type": "execute_result"
    }
   ],
   "source": [
    "reg_stemmer.stem('ingeating')"
   ]
  },
  {
   "cell_type": "markdown",
   "id": "f558504f-6f15-4c36-8c0e-ccb4338a29c1",
   "metadata": {},
   "source": [
    "# SnowballStemmer"
   ]
  },
  {
   "cell_type": "code",
   "execution_count": 44,
   "id": "a969aac3-5e87-4495-ae21-e79311800f2a",
   "metadata": {},
   "outputs": [],
   "source": [
    "from nltk.stem import SnowballStemmer\n",
    "snowball_stemmer = SnowballStemmer('english')"
   ]
  },
  {
   "cell_type": "code",
   "execution_count": 45,
   "id": "d5ba75b5-e4c6-4f27-9b9c-a66eb50f6535",
   "metadata": {},
   "outputs": [
    {
     "data": {
      "text/plain": [
       "'histori'"
      ]
     },
     "execution_count": 45,
     "metadata": {},
     "output_type": "execute_result"
    }
   ],
   "source": [
    "snowball_stemmer.stem('history')"
   ]
  },
  {
   "cell_type": "code",
   "execution_count": 46,
   "id": "f67f7f58-22ba-4993-bba0-56a620de58d1",
   "metadata": {},
   "outputs": [
    {
     "data": {
      "text/plain": [
       "'sportingli'"
      ]
     },
     "execution_count": 46,
     "metadata": {},
     "output_type": "execute_result"
    }
   ],
   "source": [
    "stemmer.stem(\"sportingly\")"
   ]
  },
  {
   "cell_type": "code",
   "execution_count": 47,
   "id": "a60ea53b-ac90-45c2-a921-c2d6f553d364",
   "metadata": {},
   "outputs": [
    {
     "data": {
      "text/plain": [
       "'sport'"
      ]
     },
     "execution_count": 47,
     "metadata": {},
     "output_type": "execute_result"
    }
   ],
   "source": [
    "snowball_stemmer.stem(\"sportingly\")"
   ]
  },
  {
   "cell_type": "code",
   "execution_count": null,
   "id": "e54eab0f-3964-42fa-be3d-8526a3e12c2c",
   "metadata": {},
   "outputs": [],
   "source": [
    "stemmer.stem(\"\")"
   ]
  }
 ],
 "metadata": {
  "kernelspec": {
   "display_name": "Python 3 (ipykernel)",
   "language": "python",
   "name": "python3"
  },
  "language_info": {
   "codemirror_mode": {
    "name": "ipython",
    "version": 3
   },
   "file_extension": ".py",
   "mimetype": "text/x-python",
   "name": "python",
   "nbconvert_exporter": "python",
   "pygments_lexer": "ipython3",
   "version": "3.13.5"
  }
 },
 "nbformat": 4,
 "nbformat_minor": 5
}
