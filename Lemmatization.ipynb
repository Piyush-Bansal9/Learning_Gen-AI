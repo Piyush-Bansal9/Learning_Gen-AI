{
 "cells": [
  {
   "cell_type": "markdown",
   "id": "e0319530-641b-4441-ba08-41eb8c378da5",
   "metadata": {},
   "source": [
    "# WordNet\n",
    "WordNet is a large lexical database which can be seen as a combination of dictionary + thesaurus. It basically groups similar words together making it easy to achieve tasks such as lemmatization.\n",
    "# How deos WordNetLemmatizer work\n",
    "Under the hood, WordNetLemmatizer uses the morphy() function of the WordNetCorpusReader class based on morphological rules to get meaningful base words.\n",
    "\n",
    "from nltk.corpus import wordnet as wn\n",
    "wn.morphy('studies')"
   ]
  },
  {
   "cell_type": "code",
   "execution_count": 3,
   "id": "352ea62d-fa8f-4af9-855e-f637dfdcfce3",
   "metadata": {},
   "outputs": [
    {
     "name": "stderr",
     "output_type": "stream",
     "text": [
      "[nltk_data] Downloading package wordnet to\n",
      "[nltk_data]     /Users/piyush_9/nltk_data...\n"
     ]
    },
    {
     "data": {
      "text/plain": [
       "True"
      ]
     },
     "execution_count": 3,
     "metadata": {},
     "output_type": "execute_result"
    }
   ],
   "source": [
    "import nltk\n",
    "nltk.download('wordnet')"
   ]
  },
  {
   "cell_type": "code",
   "execution_count": 5,
   "id": "2ccab66b-f870-40e8-aafa-87b0cac566ab",
   "metadata": {},
   "outputs": [
    {
     "data": {
      "text/plain": [
       "'good'"
      ]
     },
     "execution_count": 5,
     "metadata": {},
     "output_type": "execute_result"
    }
   ],
   "source": [
    "from nltk.stem import WordNetLemmatizer\n",
    "lemmatizer = WordNetLemmatizer()\n",
    "lemmatizer.lemmatize(\"better\", pos = 'a')"
   ]
  },
  {
   "cell_type": "code",
   "execution_count": 6,
   "id": "a55c24db-d597-4f03-9501-6b35b2439de8",
   "metadata": {},
   "outputs": [
    {
     "data": {
      "text/plain": [
       "'good'"
      ]
     },
     "execution_count": 6,
     "metadata": {},
     "output_type": "execute_result"
    }
   ],
   "source": [
    "from nltk.stem import WordNetLemmatizer\n",
    "lemmatizer = WordNetLemmatizer()\n",
    "lemmatizer.lemmatize(\"good\", pos = 'a')"
   ]
  },
  {
   "cell_type": "code",
   "execution_count": 8,
   "id": "78c74c65-549f-4a01-88b3-bc2dfc62aaab",
   "metadata": {},
   "outputs": [
    {
     "data": {
      "text/plain": [
       "'cows'"
      ]
     },
     "execution_count": 8,
     "metadata": {},
     "output_type": "execute_result"
    }
   ],
   "source": [
    "lemmatizer.lemmatize('cows', pos = 'a')"
   ]
  },
  {
   "cell_type": "code",
   "execution_count": 10,
   "id": "33ddc065-0f02-427b-8db2-06813b68ab0f",
   "metadata": {},
   "outputs": [
    {
     "data": {
      "text/plain": [
       "'more important'"
      ]
     },
     "execution_count": 10,
     "metadata": {},
     "output_type": "execute_result"
    }
   ],
   "source": [
    "lemmatizer.lemmatize('more important', pos = 'r')"
   ]
  },
  {
   "cell_type": "code",
   "execution_count": 11,
   "id": "c69b4417-7fa2-4d7a-9e5c-bfdde0e648bf",
   "metadata": {},
   "outputs": [
    {
     "data": {
      "text/plain": [
       "'faster'"
      ]
     },
     "execution_count": 11,
     "metadata": {},
     "output_type": "execute_result"
    }
   ],
   "source": [
    "lemmatizer.lemmatize('faster', pos = 'r')"
   ]
  },
  {
   "cell_type": "code",
   "execution_count": 12,
   "id": "2da1955d-9565-41f7-b72c-19bff05f3065",
   "metadata": {},
   "outputs": [
    {
     "data": {
      "text/plain": [
       "'fast'"
      ]
     },
     "execution_count": 12,
     "metadata": {},
     "output_type": "execute_result"
    }
   ],
   "source": [
    "lemmatizer.lemmatize('faster', pos = 'a')"
   ]
  },
  {
   "cell_type": "markdown",
   "id": "8f94c995-2030-4705-8060-89829a9429d9",
   "metadata": {},
   "source": []
  }
 ],
 "metadata": {
  "kernelspec": {
   "display_name": "Python 3 (ipykernel)",
   "language": "python",
   "name": "python3"
  },
  "language_info": {
   "codemirror_mode": {
    "name": "ipython",
    "version": 3
   },
   "file_extension": ".py",
   "mimetype": "text/x-python",
   "name": "python",
   "nbconvert_exporter": "python",
   "pygments_lexer": "ipython3",
   "version": "3.13.5"
  }
 },
 "nbformat": 4,
 "nbformat_minor": 5
}
